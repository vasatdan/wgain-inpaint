{
 "cells": [
  {
   "cell_type": "code",
   "execution_count": 4,
   "metadata": {},
   "outputs": [],
   "source": [
    "import os\n",
    "import PIL\n",
    "from os import listdir\n",
    "from PIL import Image\n",
    "import random"
   ]
  },
  {
   "cell_type": "code",
   "execution_count": 5,
   "metadata": {},
   "outputs": [],
   "source": [
    "path = \"img_align_celeba\"\n",
    "path_train = \"train128\"\n",
    "path_test = \"test128\"\n",
    "i = 0\n",
    "random.seed(2020)\n",
    "for file in listdir(path):\n",
    "    im = Image.open(path+'/'+file)\n",
    "    im = im.crop((0,20,178,198)).resize((128,128), Image.ANTIALIAS)\n",
    "    im.save((path_train if random.random() >= 0.3 else path_test)+\"/\"+file[:-4]+\".jpg\", \"JPEG\")"
   ]
  },
  {
   "cell_type": "code",
   "execution_count": null,
   "metadata": {},
   "outputs": [],
   "source": []
  }
 ],
 "metadata": {
  "kernelspec": {
   "display_name": "Python 3",
   "language": "python",
   "name": "python3"
  },
  "language_info": {
   "codemirror_mode": {
    "name": "ipython",
    "version": 3
   },
   "file_extension": ".py",
   "mimetype": "text/x-python",
   "name": "python",
   "nbconvert_exporter": "python",
   "pygments_lexer": "ipython3",
   "version": "3.7.5"
  }
 },
 "nbformat": 4,
 "nbformat_minor": 4
}
