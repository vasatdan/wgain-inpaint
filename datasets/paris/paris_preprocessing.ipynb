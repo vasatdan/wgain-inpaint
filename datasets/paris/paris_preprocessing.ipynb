{
 "cells": [
  {
   "cell_type": "code",
   "execution_count": 11,
   "metadata": {},
   "outputs": [],
   "source": [
    "import os\n",
    "import PIL\n",
    "from os import listdir\n",
    "from PIL import Image\n",
    "import random"
   ]
  },
  {
   "cell_type": "code",
   "execution_count": 12,
   "metadata": {},
   "outputs": [],
   "source": [
    "path = \"train_original\"\n",
    "path_train = \"train128\"\n",
    "path_test = \"test128\"\n",
    "i = 0\n",
    "random.seed(2020)\n",
    "for file in listdir(path):\n",
    "    im = Image.open(path+'/'+file)\n",
    "    im = im.crop((0,0,537,537)).resize((128,128), Image.ANTIALIAS)\n",
    "    im.save((path_train if random.random() <= 0.3 else path_test)+\"/\"+file[:-4]+\".jpg\", \"JPEG\")"
   ]
  },
  {
   "cell_type": "code",
   "execution_count": null,
   "metadata": {},
   "outputs": [],
   "source": []
  }
 ],
 "metadata": {
  "kernelspec": {
   "display_name": "Python 3",
   "language": "python",
   "name": "python3"
  },
  "language_info": {
   "codemirror_mode": {
    "name": "ipython",
    "version": 3
   },
   "file_extension": ".py",
   "mimetype": "text/x-python",
   "name": "python",
   "nbconvert_exporter": "python",
   "pygments_lexer": "ipython3",
   "version": "3.7.5"
  }
 },
 "nbformat": 4,
 "nbformat_minor": 4
}
